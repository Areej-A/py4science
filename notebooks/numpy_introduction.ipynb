{
    "worksheets": [
        {
            "cells": [
                {
                    "source": "# Introduction to numpy\n\n", 
                    "cell_type": "markdown"
                }, 
                {
                    "input": "import numpy as np\n", 
                    "cell_type": "code", 
                    "collapsed": true, 
                    "language": "python", 
                    "outputs": []
                }, 
                {
                    "source": "## Inspecting arrays\n\n* shape, size, dtype\n", 
                    "cell_type": "markdown"
                }, 
                {
                    "cell_type": "code", 
                    "language": "python", 
                    "outputs": [
                        {
                            "output_type": "stream", 
                            "stream": "stdout", 
                            "text": "shape (10, 2)\ndtype float64\n"
                        }
                    ], 
                    "collapsed": false, 
                    "prompt_number": 1, 
                    "input": "x = np.random.randn(10, 2)\nprint 'shape', x.shape\nprint 'dtype', x.dtype"
                }, 
                {
                    "source": "## Creating arrays\n* arange\n* zeros and ones, by type\n* random arrays\n* arrays from files", 
                    "cell_type": "markdown"
                }, 
                {
                    "cell_type": "code", 
                    "language": "python", 
                    "outputs": [], 
                    "collapsed": true, 
                    "prompt_number": 2, 
                    "input": "x = np.zeros(10)"
                }, 
                {
                    "source": "## Slicing arrays\n* strides\n* views\n* RGBA example", 
                    "cell_type": "markdown"
                }, 
                {
                    "cell_type": "code", 
                    "language": "python", 
                    "outputs": [], 
                    "collapsed": true, 
                    "prompt_number": 3, 
                    "input": "x = np.arange(36)\nX = x.resize(9,4)"
                }, 
                {
                    "source": "## Logical masks\n* Creating masks and indexing with them\n* Combining masks\n* Using masks for analysis (stock demo)", 
                    "cell_type": "markdown"
                }, 
                {
                    "cell_type": "code", 
                    "language": "python", 
                    "outputs": [
                        {
                            "output_type": "pyout", 
                            "prompt_number": 4, 
                            "text": "211"
                        }
                    ], 
                    "collapsed": false, 
                    "prompt_number": 4, 
                    "input": "x = np.random.randn(10000)\nmask = x>2\nmask.sum()"
                }, 
                {
                    "source": "## Structured arrays and record arrays\n* dtypes\n* from CSV files\n* with masking", 
                    "cell_type": "markdown"
                }, 
                {
                    "cell_type": "code", 
                    "language": "python", 
                    "outputs": [
                        {
                            "output_type": "pyout", 
                            "prompt_number": 5, 
                            "text": "dtype([(&apos;date&apos;, &apos;O&apos;), (&apos;open&apos;, &apos;&lt;f8&apos;), (&apos;high&apos;, &apos;&lt;f8&apos;), (&apos;low&apos;, &apos;&lt;f8&apos;), (&apos;close&apos;, &apos;&lt;f8&apos;), (&apos;volume&apos;, &apos;&lt;i8&apos;), (&apos;adj_close&apos;, &apos;&lt;f8&apos;)])"
                        }
                    ], 
                    "collapsed": false, 
                    "prompt_number": 5, 
                    "input": "r = mlab.csv2rec('data/crox.csv')\nr.dtype"
                }
            ]
        }
    ], 
    "metadata": {
        "name": "numpy_introduction"
    }, 
    "nbformat": 2
}