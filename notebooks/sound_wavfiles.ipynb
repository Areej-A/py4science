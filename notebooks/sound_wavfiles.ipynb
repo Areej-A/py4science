{
    "worksheets": [
        {
            "cells": [
                {
                    "source": "# Reading and writing numpy arrays to wav files for sound playback.", 
                    "cell_type": "markdown"
                }, 
                {
                    "cell_type": "code", 
                    "language": "python", 
                    "outputs": [], 
                    "collapsed": true, 
                    "prompt_number": 1, 
                    "input": "import numpy as np\nfrom matplotlib import pyplot as plt\nfrom scipy.io import wavfile"
                }, 
                {
                    "cell_type": "code", 
                    "language": "python", 
                    "outputs": [], 
                    "collapsed": true, 
                    "prompt_number": 2, 
                    "input": "def synthetic(name, T, rate, base_freq = 1000):\n    \"\"\"Create a synthetic signal.\n    \"\"\"\n    valid_names = set(['tone', 'chirp', 'laser'])\n    \n    nsamples = int(round(rate*T))\n    t = np.linspace(0, T, nsamples)\n\n    if name == 'tone':\n        # A simple tone with just one frequency\n        y = np.sin(2*np.pi*base_freq*t)\n    elif name == 'chirp':\n        # a chirp\n        freq = base_freq*t\n        y = np.sin(2*np.pi*freq*t)\n    elif name == 'laser':\n        # a 'laser': 1/t frequency shift\n        freq = base_freq/(t+1)\n        y = np.sin(2*np.pi*freq*t)\n\n    # linearly rescale raw data to wav range and convert to integers\n    scale_fac = 2**15\n    sound = (scale_fac*y).astype(np.int16)\n    return sound"
                }, 
                {
                    "cell_type": "code", 
                    "language": "python", 
                    "outputs": [], 
                    "collapsed": true, 
                    "prompt_number": 18, 
                    "input": "def viz_sound(sound, name, npts=1000):\n    \"\"\"Visualize the structure of an audio signal.\n    \"\"\"\n    f, (ax0, ax1) = plt.subplots(1, 2, figsize=(10,4))\n    ax0.plot(sound[:npts])\n    ax1.specgram(sound)"
                }, 
                {
                    "source": "Generate a synthetic signal", 
                    "cell_type": "markdown"
                }, 
                {
                    "cell_type": "code", 
                    "language": "python", 
                    "outputs": [], 
                    "collapsed": true, 
                    "prompt_number": 8, 
                    "input": "rate = 2*11025 # Hz\nT = 2 # s\nbase_freq = 1000\nname = 'tone'\nname = 'chirp'\nname = 'laser'\nsound = synthetic(name, T, rate)"
                }, 
                {
                    "source": "Visualize it", 
                    "cell_type": "markdown"
                }, 
                {
                    "cell_type": "code", 
                    "language": "python", 
                    "outputs": [], 
                    "collapsed": true, 
                    "prompt_number": 19, 
                    "input": "fname = 'sample_%s.wav' % name\nwavfile.write(fname, rate, sound)\nviz_sound(sound, name)"
                }, 
                {
                    "source": "and play it", 
                    "cell_type": "markdown"
                }, 
                {
                    "cell_type": "code", 
                    "language": "python", 
                    "outputs": [], 
                    "collapsed": true, 
                    "prompt_number": 20, 
                    "input": "!play $fname"
                }, 
                {
                    "input": "", 
                    "cell_type": "code", 
                    "collapsed": true, 
                    "language": "python", 
                    "outputs": []
                }
            ]
        }
    ], 
    "metadata": {
        "name": "sound_wavfiles"
    }, 
    "nbformat": 2
}