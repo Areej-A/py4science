{
    "worksheets": [
        {
            "cells": [
                {
                    "source": "# Python workflow for scientific computing\n\n## Executing simple statements\n\n* Defining variables and printing their content\n* Python can be used like a simple calculator\n* For loops and multiline editing", 
                    "cell_type": "markdown"
                }, 
                {
                    "cell_type": "code", 
                    "language": "python", 
                    "outputs": [], 
                    "collapsed": false, 
                    "prompt_number": 4, 
                    "input": ""
                }, 
                {
                    "source": " ", 
                    "cell_type": "markdown"
                }, 
                {
                    "source": "## Understanding objects\n* The tab key\n* Builtin help with `x?` and `x??`", 
                    "cell_type": "markdown"
                }, 
                {
                    "cell_type": "code", 
                    "language": "python", 
                    "outputs": [
                        {
                            "output_type": "pyout", 
                            "prompt_number": 5, 
                            "text": "&apos;HELLO CLAREMONT&apos;"
                        }
                    ], 
                    "collapsed": false, 
                    "prompt_number": 5, 
                    "input": "s = 'hello Claremont'\ns.upper()"
                }, 
                {
                    "input": "for i in range(10):\n    print i\n    if i>5:\n        print 'big numbers!'", 
                    "cell_type": "code", 
                    "collapsed": true, 
                    "language": "python", 
                    "outputs": []
                }, 
                {
                    "source": "## Finding help \n\n* The Python documentation\n* The docs for related projects (links on the left)", 
                    "cell_type": "markdown"
                }, 
                {
                    "source": "## Understanding error messages\n", 
                    "cell_type": "markdown"
                }, 
                {
                    "input": "", 
                    "cell_type": "code", 
                    "collapsed": true, 
                    "language": "python", 
                    "outputs": []
                }, 
                {
                    "input": "", 
                    "cell_type": "code", 
                    "collapsed": true, 
                    "language": "python", 
                    "outputs": []
                }, 
                {
                    "input": "", 
                    "cell_type": "code", 
                    "collapsed": true, 
                    "language": "python", 
                    "outputs": []
                }
            ]
        }
    ], 
    "metadata": {
        "name": "workflow"
    }, 
    "nbformat": 2
}