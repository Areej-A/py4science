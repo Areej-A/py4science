{
    "worksheets": [
        {
            "cells": [
                {
                    "source": "# Python is a very readable language", 
                    "cell_type": "markdown"
                }, 
                {
                    "cell_type": "code", 
                    "language": "python", 
                    "outputs": [
                        {
                            "output_type": "stream", 
                            "stream": "stdout", 
                            "text": "_                                      =   (\r\n                                        255,\r\n                                      lambda\r\n                               V       ,B,c\r\n                             :c   and Y(V*V+B,B,  c\r\n                               -1)if(abs(V)&lt;6)else\r\n               (              2+c-4*abs(V)**-0.4)/i\r\n                 )  ;v,      x=1500,1000;C=range(v*x\r\n                  );import  struct;P=struct.pack;M,\\\r\n            j  =&apos;&lt;QIIHHHH&apos;,open(&apos;M.bmp&apos;,&apos;wb&apos;).write\r\nfor X in j(&apos;BM&apos;+P(M,v*x*3+26,26,12,v,x,1,24))or C:\r\n            i  ,Y=_;j(P(&apos;BBB&apos;,*(lambda T:(T*80+T**9\r\n                  *i-950*T  **99,T*70-880*T**18+701*\r\n                 T  **9     ,T*i**(1-T**45*2)))(sum(\r\n               [              Y(0,(A%3/3.+X%v+(X/v+\r\n                               A/3/3.-x/2)/1j)*2.5\r\n                             /x   -2.7,i)**2 for  \\\r\n                               A       in C\r\n                                      [:9]])\r\n                                        /9)\r\n                                       )   )\r\n"
                        }
                    ], 
                    "collapsed": false, 
                    "prompt_number": 9, 
                    "input": "!more mystery.py"
                }, 
                {
                    "cell_type": "code", 
                    "language": "python", 
                    "outputs": [], 
                    "collapsed": true, 
                    "prompt_number": 2, 
                    "input": "run mystery"
                }, 
                {
                    "cell_type": "code", 
                    "language": "python", 
                    "outputs": [], 
                    "collapsed": true, 
                    "prompt_number": 3, 
                    "input": "from IPython.core.display import Image\nImage(filename='M.bmp')"
                }
            ]
        }
    ], 
    "metadata": {
        "name": "mystery"
    }, 
    "nbformat": 2
}