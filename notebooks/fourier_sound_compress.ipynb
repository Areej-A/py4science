{
    "worksheets": [
        {
            "cells": [
                {
                    "source": "# Audio compression with the Fast Fourier Transform\n\n<style type=\"text/css\">\n    .exercise {\n        border: solid 3px #AAE;\n        background: #EEF;\n        padding: 50px 10px 50px 10px;\n        display: inline-block;\n        font-size: 110%;\n    }\n</style>", 
                    "cell_type": "markdown"
                }, 
                {
                    "source": "Libraries we may need", 
                    "cell_type": "markdown"
                }, 
                {
                    "cell_type": "code", 
                    "language": "python", 
                    "outputs": [], 
                    "collapsed": true, 
                    "prompt_number": 1, 
                    "input": "import os\nimport sys\nfrom scipy.io import wavfile"
                }, 
                {
                    "source": "We define a function to approximate a function", 
                    "cell_type": "markdown"
                }, 
                {
                    "cell_type": "code", 
                    "language": "python", 
                    "outputs": [], 
                    "collapsed": true, 
                    "prompt_number": 2, 
                    "input": "def fourier_approx(x, frac=0.5, Fs=11000):\n    \"\"\"\n    approximate x by taking only the frac largest fourier components where frac\n    is a float between 0..1\n\n    Fs is the sampling frequency of the data\n    \n    return the approximated signal\n\n    if makeplot is True, plot the original time series and approximation in a\n    pyplot figure\n    \"\"\"\n    out = np.fft.rfft(x) \n    print 'rfft', x.shape, out.shape\n    # normally the output of fft is the same size as the input, but\n    # for real inputs, the fft is symmetric around the DC component,\n    # so rfft is a helper function which only returns the positive\n    # frequencies and ignores the identical, symmetric negative\n    # frequencies.  The output array is half the size of the input\n    # plus 1; the extra component is the DC frequency\n    magnitude = np.abs(out)\n    ind = magnitude.argsort()\n    # zero out the 1-frac smallest frequency components\n    indmin = int((1-frac)*len(magnitude))\n    out[ind[:indmin]] = 0.\n\n    ret = np.fft.irfft(out)\n    print 'irrft', ret.shape, out.shape\n    return ret"
                }, 
                {
                    "source": "We define a function to plot the function approximation", 
                    "cell_type": "markdown"
                }, 
                {
                    "cell_type": "code", 
                    "language": "python", 
                    "outputs": [], 
                    "collapsed": true, 
                    "prompt_number": 3, 
                    "input": "def plot_approx(x, xapprox, frac=0.5, Fs=11000):\n    \"\"\"Plot an audio signal and its approximation.\n    \"\"\"\n    t = np.arange(len(x), dtype=float)/Fs\n\n    fig = plt.figure()\n    #print 'x', t.shape, x.shape, xapprox.shape\n    plt.plot(t, x, label='original', lw=1)\n    \n    #print 'xapprox', t.shape, xapprox.shape\n    plt.plot(t, xapprox, label='approx', lw=1)\n    plt.title('Approx signal %.2f%% of the total frequencies'%(\n        100*frac))\n    plt.xlabel('time (s)')\n\n    plt.grid()\n    leg = plt.legend(fancybox=True)\n    leg.get_frame().set_alpha(0.5)\n\n    fig, (ax0, ax1) = plt.subplots(2, 1)\n    ax0.psd(x, Fs=Fs)\n    ax0.set_ylabel('original')\n    ax0.set_title('Power spectrum of original and approx')\n    ax0.set_xlabel('')\n    ax1.psd(xapprox, Fs=Fs)\n    ax1.set_ylabel('approx')"
                }, 
                {
                    "source": "Now we load some data from an audio file.  First, we play it", 
                    "cell_type": "markdown"
                }, 
                {
                    "cell_type": "code", 
                    "language": "python", 
                    "outputs": [], 
                    "collapsed": false, 
                    "prompt_number": 4, 
                    "input": "infile = 'data/CallRingingIn.wav'\n!play $infile"
                }, 
                {
                    "source": "Next we decide how many frequencies to keep and compress it", 
                    "cell_type": "markdown"
                }, 
                {
                    "cell_type": "code", 
                    "language": "python", 
                    "outputs": [], 
                    "collapsed": false, 
                    "prompt_number": 5, 
                    "input": "# Fraction of frequencies to keep (as a number in [0,1]).\nfrac = 0.2\nrate, x = wavfile.read(infile)\n\n# Note: the file may have an even or odd number of samples, but if the\n# length is odd, some care must be taken later on when applying the inverse\n# ral-only FFT.  For simplicity, we simply drop the last data point if the\n# file is even.\nif len(x) %2:  x = x[:-1]\n\nif len(x.shape)==2:\n    # looks like a stereo wave\n    print 'extracting mono channel'\n    x = x[:,0]"
                }, 
                {
                    "source": "Approximate the signal by dropping frequencies and plot the results.", 
                    "cell_type": "markdown"
                }, 
                {
                    "cell_type": "code", 
                    "language": "python", 
                    "outputs": [], 
                    "collapsed": false, 
                    "prompt_number": 6, 
                    "input": "xapprox = fourier_approx(x, frac, rate)"
                }, 
                {
                    "cell_type": "code", 
                    "language": "python", 
                    "outputs": [], 
                    "collapsed": false, 
                    "prompt_number": 7, 
                    "input": "plot_approx(x, xapprox, frac, rate)"
                }, 
                {
                    "source": "Connvert the compressed signal to a format suitable for writing and save it\nto disk", 
                    "cell_type": "markdown"
                }, 
                {
                    "cell_type": "code", 
                    "language": "python", 
                    "outputs": [], 
                    "collapsed": true, 
                    "prompt_number": 8, 
                    "input": "# linearly rescale raw data to wav range and convert to integers\nsound = xapprox.astype(np.int16)\nbasename, ext = os.path.splitext(infile)\nnew_filename = '%s_frac%d.wav' % (basename, 100*frac) \nwavfile.write(new_filename, rate, sound)"
                }, 
                {
                    "source": "Play the compressed audio", 
                    "cell_type": "markdown"
                }, 
                {
                    "cell_type": "code", 
                    "language": "python", 
                    "outputs": [], 
                    "collapsed": false, 
                    "prompt_number": 9, 
                    "input": "!play $new_filename"
                }, 
                {
                    "cell_type": "code", 
                    "language": "python", 
                    "outputs": [], 
                    "collapsed": true, 
                    "prompt_number": 9, 
                    "input": ""
                }
            ]
        }
    ], 
    "metadata": {
        "name": "fourier_sound_compress"
    }, 
    "nbformat": 2
}