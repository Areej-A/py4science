{
    "worksheets": [
        {
            "cells": [
                {
                    "source": "# Template tools for notebooks\n\n**Links:** [IPython](http://ipython.org),\n[NumPy](http://numpy.org), [SciPy](http://scipy.org), [matplotlib](http://matplotlib.sf.net)\n\n<br/>\n[Python(x,y)](http://www.pythonxy.com) and [EPD](http://www.enthought.com/products/epd.php) provide\none-click installers.\n\n<style type=\"text/css\">\n    .exercise {\n        border: solid 3px #AAE;\n        background: #EEF;\n        padding: 50px 10px 50px 10px;\n        display: inline-block;\n        font-size: 110%;\n    }\n</style>", 
                    "cell_type": "markdown"
                }, 
                {
                    "cell_type": "code", 
                    "language": "python", 
                    "outputs": [
                        {
                            "output_type": "stream", 
                            "stream": "stdout", 
                            "text": "hi\n"
                        }
                    ], 
                    "collapsed": false, 
                    "prompt_number": 2, 
                    "input": "# a normal code cell\nprint 'hi'"
                }, 
                {
                    "source": "<span class=\"exercise\">\n**Exercise:** An exercise cell\n</span>", 
                    "cell_type": "markdown"
                }, 
                {
                    "input": "", 
                    "cell_type": "code", 
                    "collapsed": true, 
                    "language": "python", 
                    "outputs": []
                }
            ]
        }
    ], 
    "metadata": {
        "name": "template"
    }, 
    "nbformat": 2
}