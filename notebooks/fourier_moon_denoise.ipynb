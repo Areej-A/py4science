{
    "worksheets": [
        {
            "cells": [
                {
                    "source": "# Simple image denoising example using 2-dimensional FFT\n\nIn this example...", 
                    "cell_type": "markdown"
                }, 
                {
                    "cell_type": "code", 
                    "language": "python", 
                    "outputs": [], 
                    "collapsed": false, 
                    "prompt_number": 1, 
                    "input": "# Import some standard libraries\nimport sys\nimport numpy as np\nfrom matplotlib import pyplot as plt"
                }, 
                {
                    "cell_type": "code", 
                    "language": "python", 
                    "outputs": [], 
                    "collapsed": true, 
                    "prompt_number": 9, 
                    "input": "def plot_spectrum(F, amplify=1000, ax=None):\n    \"\"\"Normalise, amplify and plot an amplitude spectrum.\"\"\"\n\n    # Note: the problem here is that we have a spectrum whose histogram is\n    # *very* sharply peaked at small values.  To get a meaningful display, a\n    # simple strategy to improve the display quality consists of simply\n    # amplifying the values in the array and then clipping.\n\n    # Compute the magnitude of the input F (call it mag).  Then, rescale mag by\n    # amplify/maximum_of_mag.  Numpy arrays can be scaled in-place with ARR *=\n    # number.  For the max of an array, look for its max method.\n    mag = abs(F) \n    mag *= amplify/mag.max() \n    \n    # Next, clip all values larger than one to one.  You can set all elements\n    # of an array which satisfy a given condition with array indexing syntax:\n    # ARR[ARR<VALUE] = NEWVALUE, for example.\n    mag[mag > 1] = 1 \n\n    # Display: this one already works, if you did everything right with mag\n    if ax is None: ax = plt.gca()\n    ax.imshow(mag, plt.cm.Blues)"
                }, 
                {
                    "source": "Read in original image, convert to floating point for further\nmanipulation; imread returns a MxNx4 RGBA image.  Since the image is\ngrayscale, just extract the 1st channel\n\n**Hints:**\n\n* use plt.imread() to load the file\n* convert to a float array with the .astype() method\n* extract all rows, all columns, 0-th plane to get the first\n   channel\n* the resulting array should have 2 dimensions only", 
                    "cell_type": "markdown"
                }, 
                {
                    "cell_type": "code", 
                    "language": "python", 
                    "outputs": [], 
                    "collapsed": false, 
                    "prompt_number": 4, 
                    "input": "fname = 'data/moonlanding.png'\nim = plt.imread(fname).astype(float) \nprint \"Image shape: %s\"%str(im.shape)"
                }, 
                {
                    "source": "Compute the 2d FFT of the input image\nHint: Look for a 2-d FFT in np.fft.\nNote: call this variable 'F', which is the name we'll be using below.\nIn the lines following, we'll make a copy of the original spectrum and\ntruncate coefficients.  \nIn the lines following, we'll make a copy of the original spectrum and\ntruncate coefficients. ", 
                    "cell_type": "markdown"
                }, 
                {
                    "cell_type": "code", 
                    "language": "python", 
                    "outputs": [], 
                    "collapsed": true, 
                    "prompt_number": 5, 
                    "input": "F = np.fft.fft2(im)  \n\n# Define the fraction of coefficients (in each direction) we keep\nkeep_fraction = 0.1\n\n# Call ff a copy of the original transform.  Numpy arrays have a copy\n# method for this purpose.\nff = F.copy() \n\n# Set r and c to be the number of rows and columns of the array.\nr,c = ff.shape \n\n# Set to zero all rows with indices between r*keep_fraction and\n# r*(1-keep_fraction):\nff[r*keep_fraction:r*(1-keep_fraction)] = 0  \n\n# Similarly with the columns:\nff[:, c*keep_fraction:c*(1-keep_fraction)] = 0 "
                }, 
                {
                    "source": "Reconstruct the denoised image from the filtered spectrum, keep only the\nreal part for display.\nHint: There's an inverse 2d fft in the np.fft module as well (don't\nforget that you only want the real part).\nCall the result im_new and plot the results", 
                    "cell_type": "markdown"
                }, 
                {
                    "cell_type": "code", 
                    "language": "python", 
                    "outputs": [], 
                    "collapsed": false, 
                    "prompt_number": 11, 
                    "input": "im_new = np.fft.ifft2(ff).real  \n\nfig, ax = plt.subplots(2, 2, figsize=(10,7))\n\nax[0,0].set_title('Original image')\nax[0,0].imshow(im, plt.cm.gray)\n\nax[0,1].set_title('Fourier transform')\nplot_spectrum(F, ax=ax[0,1])\n\nax[1,1].set_title('Filtered Spectrum')\nplot_spectrum(ff, ax=ax[1,1])\n\nax[1,0].set_title('Reconstructed Image')\nax[1,0].imshow(im_new, plt.cm.gray);"
                }, 
                {
                    "input": "", 
                    "cell_type": "code", 
                    "collapsed": true, 
                    "language": "python", 
                    "outputs": []
                }
            ]
        }
    ], 
    "metadata": {
        "name": "fourier_moon_denoise"
    }, 
    "nbformat": 2
}