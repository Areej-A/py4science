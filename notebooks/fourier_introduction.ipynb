{
    "worksheets": [
        {
            "cells": [
                {
                    "source": "# Introduction to Fourier analysis\n\nWe illustrate the basic construction of a square wave with successively\nhigher order approximations.\n\n<style type=\"text/css\">\n    .exercise {\n        border: solid 3px #AAE;\n        background: #EEF;\n        padding: 50px 10px 50px 10px;\n        display: inline-block;\n        font-size: 110%;\n    }\n</style>", 
                    "cell_type": "markdown"
                }, 
                {
                    "cell_type": "code", 
                    "language": "python", 
                    "outputs": [], 
                    "collapsed": true, 
                    "prompt_number": 1, 
                    "input": "def square(nterms=5, npts=2000):\n    \"\"\"Add nterms to construct a square wave.\n\n    Computes an approximation to a square wave using a total of nterms.\n    \n    Parameters\n    ----------\n    nterms : int, optional\n      Number of terms to use in the sum.\n    npts : int, optional\n      Number of points at which to sample the function.\n\n    Returns\n    -------\n    t : array\n      The t values where the wave was sampled.\n    y : array\n      The square wave approximation (the final sum of all terms).\n      \"\"\"\n    \n    t = np.linspace(-pi, 2*pi, npts)\n    y = np.zeros_like(t)\n\n    for i in range(nterms):\n        y += (1.0/(2*i+1))*sin( (2*i+1)* t)\n\n    return t, y"
                }, 
                {
                    "cell_type": "code", 
                    "language": "python", 
                    "outputs": [], 
                    "collapsed": true, 
                    "prompt_number": 2, 
                    "input": "def square_terms(nterms=5, npts=500):\n    \"\"\"Compute all nterms to construct a square wave.\n\n    Computes an approximation to a square wave using a total of nterms, and\n    returns the individual terms as well as the final sum.\n    \n    Parameters\n    ----------\n    nterms : int, optional\n      Number of terms to use in the sum.\n    npts : int, optional\n      Number of points at which to sample the function.\n\n    Returns\n    -------\n    t : array\n      The t values where the wave was sampled.\n    y : array\n      The square wave approximation (the final sum of all terms).\n    terms : array of shape (nterms, npts)\n      Array with each term of the sum as one row.\n      \"\"\"\n    t = np.linspace(-pi, 2*pi, npts)\n    terms = np.zeros((nterms, npts))\n    for i in range(nterms):\n        terms[i] = (1.0/(2*i+1))*sin( (2*i+1)* t)\n    y = terms.sum(axis=0)\n    return t, y, terms"
                }, 
                {
                    "cell_type": "code", 
                    "language": "python", 
                    "outputs": [], 
                    "collapsed": true, 
                    "prompt_number": 3, 
                    "input": "def plot_square(terms):\n    \"\"\"Plot the square wave construction for a list of total number of terms.\n\n    Parameters\n    ----------\n    terms : int or list of ints\n      If a list is given, the plot will be constructed for all terms in it.\n    \"\"\"\n    plt.figure()\n\n    if isinstance(terms, int):\n        # Single term, just put it in a list since the code below expects a list\n        terms = [terms]\n        \n    for nterms in terms:\n        t, y = square(nterms)\n        plt.plot(t, y, label='n=%s' % nterms)\n\n    plt.grid()\n    plt.legend()\n    plt.title('Square wave with n terms')"
                }, 
                {
                    "cell_type": "code", 
                    "language": "python", 
                    "outputs": [], 
                    "collapsed": true, 
                    "prompt_number": 4, 
                    "input": "def plot_square_terms(nterms):\n    \"\"\"Plot individual terms of square wave construction.\"\"\"\n    plt.figure()\n\n    t, y, terms = square_terms(nterms)\n    for i,term in enumerate(terms):\n        plt.plot(t, term, label='freq=%i' % (2*i+1))\n        \n    plt.plot(t, y, color='k', linewidth=2, label='sum')\n    plt.grid()\n    plt.legend()\n    plt.title('Individual components of a square wave')"
                }, 
                {
                    "cell_type": "code", 
                    "language": "python", 
                    "outputs": [], 
                    "collapsed": true, 
                    "prompt_number": 5, 
                    "input": "def plot_cesaro(nterms):\n    \"\"\"Cesaro summation\"\"\"\n    t, y, terms = square_terms(nterms)\n    csum = terms.cumsum(axis=0)\n    yc = csum.mean(axis=0)\n    plt.plot(t, yc, label='cesaro(%s)' % nterms)\n    plt.legend()"
                }, 
                {
                    "cell_type": "code", 
                    "language": "python", 
                    "outputs": [], 
                    "collapsed": false, 
                    "prompt_number": 6, 
                    "input": "# First plot the full construction for low # of terms\nplot_square_terms(3)\n\n# Then show how successive approximations work\nplot_square(range(1, 9, 2))\n\n# Finally, illustrate Gibbs effect\nplot_square([5,10,30,50])\n\nplot_square(100)\n\n# Then show how successive approximations work\nplot_square([3,5,7])\nplot_cesaro(7)"
                }, 
                {
                    "input": "", 
                    "cell_type": "code", 
                    "collapsed": true, 
                    "language": "python", 
                    "outputs": []
                }
            ]
        }
    ], 
    "metadata": {
        "name": "fourier_introduction"
    }, 
    "nbformat": 2
}