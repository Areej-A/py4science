{
    "worksheets": [
        {
            "cells": [
                {
                    "source": "# Understanding the structure of digital images\n\n<style type=\"text/css\">\n    .exercise {\n        border: solid 3px #AAE;\n        background: #EEF;\n        padding: 50px 10px 50px 10px;\n        display: inline-block;\n        font-size: 110%;\n    }\n</style>", 
                    "cell_type": "markdown"
                }, 
                {
                    "source": "Start by loading libraries we'll need", 
                    "cell_type": "markdown"
                }, 
                {
                    "cell_type": "code", 
                    "language": "python", 
                    "outputs": [], 
                    "collapsed": false, 
                    "prompt_number": 2, 
                    "input": "from matplotlib import cm"
                }, 
                {
                    "source": "Define a function to load images", 
                    "cell_type": "markdown"
                }, 
                {
                    "cell_type": "code", 
                    "language": "python", 
                    "outputs": [], 
                    "collapsed": true, 
                    "prompt_number": 3, 
                    "input": "def image_load(fname, max_size=1200):\n    \"\"\"Load an image, downsampling if needed to keep within requested size.\n    \"\"\"\n    img = plt.imread(fname)\n    shape = np.array(img.shape, dtype=float)\n    sample_fac = int(np.ceil((shape/max_size).max()))\n    if sample_fac > 1:\n        new_img = img[::sample_fac, ::sample_fac, ...]\n        print 'Downsampling %sX:'% sample_fac, img.shape, '->', new_img.shape\n        return new_img\n    else:\n        return img"
                }, 
                {
                    "source": "Now we define the file we're going to load and read it as an image", 
                    "cell_type": "markdown"
                }, 
                {
                    "cell_type": "code", 
                    "language": "python", 
                    "outputs": [], 
                    "collapsed": true, 
                    "prompt_number": 17, 
                    "input": "fname = 'data/stained_glass_barcelona.png'\n#fname = 'data/dessert.png'\n\nimg = image_load(fname)"
                }, 
                {
                    "source": "We can directly display the original file in the notebook", 
                    "cell_type": "markdown"
                }, 
                {
                    "cell_type": "code", 
                    "language": "python", 
                    "outputs": [], 
                    "collapsed": false, 
                    "prompt_number": 19, 
                    "input": "from IPython.core.display import Image\nImage(filename=fname)"
                }, 
                {
                    "source": "Extract each color channel and create a figure with 4 subplots, one for each\nchannel, so we can see its structure clearly.\n</br>\nDisplay the full color figure and the color channels", 
                    "cell_type": "markdown"
                }, 
                {
                    "cell_type": "code", 
                    "language": "python", 
                    "outputs": [], 
                    "collapsed": false, 
                    "prompt_number": 18, 
                    "input": "red, green, blue = [ img[:,:,i] for i in range(3) ]\n\nf, axes = plt.subplots(1, 4)\n\naxes[0].imshow(img)\naxes[1].imshow(red, cmap=cm.Reds_r)\naxes[2].imshow(green, cmap=cm.Greens_r)\naxes[3].imshow(blue, cmap=cm.Blues_r)\n\n# Turn off tick labels\nfor ax in axes:\n    ax.set_xticklabels([])\n    ax.set_yticklabels([])\n    ax.set_aspect('auto')"
                }, 
                {
                    "source": "Make a new figure and display luminosity and per-channel histograms", 
                    "cell_type": "markdown"
                }, 
                {
                    "source": "PNG images sometimes have a 4th transparency channel, sometimes not.  To\nbe safe, we generate a luminosity array consisting of only the first 3\nchannels.", 
                    "cell_type": "markdown"
                }, 
                {
                    "cell_type": "code", 
                    "language": "python", 
                    "outputs": [], 
                    "collapsed": true, 
                    "prompt_number": 13, 
                    "input": "lumi = img[:,:,:3].mean(axis=2)"
                }, 
                {
                    "source": "Now, display a histogram for each channel.  Note that jpeg images come\nback as integer images with a luminosity range of 0..255 while pngs are\nread as floating point images in the 0..1 range.  So we adjust the\nhistogram range accordingly:", 
                    "cell_type": "markdown"
                }, 
                {
                    "cell_type": "code", 
                    "language": "python", 
                    "outputs": [], 
                    "collapsed": true, 
                    "prompt_number": 14, 
                    "input": "hrange = (0.0, 1.0) if lumi.max()<=1.0 else (0.0, 255.0)"
                }, 
                {
                    "source": "Display the luminosity and per-channel histograms:", 
                    "cell_type": "markdown"
                }, 
                {
                    "cell_type": "code", 
                    "language": "python", 
                    "outputs": [], 
                    "collapsed": false, 
                    "prompt_number": 15, 
                    "input": "f2, axes2 = plt.subplots(4, 1, sharex=True)\n\n# We want the x tick labels to be invisible on all but the bottom figure\nfor ax in axes2[:-1]:\n    for label in ax.get_xticklabels():\n        label.set_visible(False)\n        \naxes2[0].hist(lumi.flatten(), 256, range=hrange, facecolor='k',\n              edgecolor='k')\naxes2[1].hist(red.flatten(), 256, range=hrange, facecolor='r',\n              edgecolor='r')\naxes2[2].hist(green.flatten(), 256, range=hrange, facecolor='g',\n              edgecolor='g')\naxes2[3].hist(blue.flatten(), 256, range=hrange, facecolor='b',\n              edgecolor='b');"
                }, 
                {
                    "input": "", 
                    "cell_type": "code", 
                    "collapsed": true, 
                    "language": "python", 
                    "outputs": []
                }
            ]
        }
    ], 
    "metadata": {
        "name": "understanding_images"
    }, 
    "nbformat": 2
}